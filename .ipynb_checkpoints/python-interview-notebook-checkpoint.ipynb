{
 "cells": [
  {
   "cell_type": "code",
   "execution_count": 2,
   "metadata": {
    "collapsed": false
   },
   "outputs": [
    {
     "ename": "SyntaxError",
     "evalue": "invalid syntax (<ipython-input-2-f0320e06ee8e>, line 2)",
     "output_type": "error",
     "traceback": [
      "\u001b[0;36m  File \u001b[0;32m\"<ipython-input-2-f0320e06ee8e>\"\u001b[0;36m, line \u001b[0;32m2\u001b[0m\n\u001b[0;31m    What is the value of $\\sqrt{2}^{\\sqrt{2}^{{\\sqrt{2}^{...}}}}$?\u001b[0m\n\u001b[0m                    ^\u001b[0m\n\u001b[0;31mSyntaxError\u001b[0m\u001b[0;31m:\u001b[0m invalid syntax\n"
     ]
    }
   ],
   "source": [
    "### 1.1\n",
    "What is the value of $\\sqrt{2}^{\\sqrt{2}^{{\\sqrt{2}^{...}}}}$?\n",
    "\n",
    "The solution can be found by "
   ]
  },
  {
   "cell_type": "code",
   "execution_count": null,
   "metadata": {
    "collapsed": true
   },
   "outputs": [],
   "source": [
    "\n",
    "exponent = 1\n",
    "for n in range(0,8):\n",
    "   exponent = math.sqrt(2)**exponent\n",
    "print exponent"
   ]
  },
  {
   "cell_type": "markdown",
   "metadata": {},
   "source": [
    "### 3.1\n",
    "You have a bag with two coins. One will come up heads 40% of the time, and the other will come up heads 60%. You pick a coin randomly, flip it and get a head. What is the probability it will be heads on the next flip?"
   ]
  },
  {
   "cell_type": "code",
   "execution_count": 41,
   "metadata": {
    "collapsed": false
   },
   "outputs": [
    {
     "name": "stdout",
     "output_type": "stream",
     "text": [
      "36113 60197\n",
      "0.599913616958\n"
     ]
    }
   ],
   "source": [
    "import math\n",
    "import random as rnd\n",
    "def headsOrTails(probTails):\n",
    "    if rnd.random()<probTails:\n",
    "        return 0 #tails1\n",
    "    return 1#heads1\n",
    "\n",
    "# Assume 0 = tails, 1 heads\n",
    "firstFlipIsAHeadCounter = 0 #count onky trials where first flip is head\n",
    "secondFlipIsAHeadCounter = 0 #and count how many of those hadd a 2nd head\n",
    "for trialCtr in range(0,100000):\n",
    "    if rnd.random < 0.5: #reach into bag, and grab either coin\n",
    "       probTails = 0.6   #heads 40% of the time\n",
    "    else:\n",
    "       probTails = 0.4   #heads 60% of the time\n",
    "    coin = headsOrTails(probTails) #flip the coin 1\n",
    "    if coin ==1 :#it's a head, because ut must be 1, not 0\n",
    "        firstFlipIsAHeadCounter += 1\n",
    "        secondFlipIsAHeadCounter += headsOrTails(probTails)\n",
    "probEstimate = float(secondFlipIsAHeadCounter) / firstFlipIsAHeadCounter\n",
    "print secondFlipIsAHeadCounter , firstFlipIsAHeadCounter\n",
    "print probEstimate\n",
    "\n",
    "\n",
    "        "
   ]
  },
  {
   "cell_type": "markdown",
   "metadata": {},
   "source": [
    "###3.1 Object-oriented version\n",
    "Here we solve the same problem, but introducing objects to python.\n",
    "\n",
    "A simplistic approach to oo design is to identify the nouns in the problem description, and consider those to be potential *classes*. A class is a template, sort of like a cookie cutter for stamping out identical objects, ready for use.\n",
    "\n",
    "In this problem, we see **coin** and **purse** in the problem description. So let's make them into classes.\n",
    "\n",
    "The *method* of a class represent the actions we expect of the objects created from the class."
   ]
  },
  {
   "cell_type": "code",
   "execution_count": 23,
   "metadata": {
    "collapsed": false
   },
   "outputs": [
    {
     "name": "stdout",
     "output_type": "stream",
     "text": [
      "0.418604651163\n"
     ]
    }
   ],
   "source": [
    "import numpy as np\n",
    "\n",
    "class Coin(object): #we capitalize the names of classes.\n",
    "    #always define a constructor, so that we can create instances (objects) of Coin:\n",
    "    def __init__(self, probHeads):\n",
    "        self.probHeads = probHeads\n",
    "        \n",
    "    def flipIsHead(self):\n",
    "        return np.random.random() < self.probHeads\n",
    "    \n",
    "    def nextNFlipsAreHeads(self, n):\n",
    "        for i in range(n):\n",
    "            if not self.flipIsHead():#i.e. it's a Tail!\n",
    "                return False\n",
    "        return True\n",
    "\n",
    "class CoinBag(object):\n",
    "    def __init__(self):\n",
    "        self.coins = []\n",
    "        \n",
    "    def addCoin(self, coin):\n",
    "        self.coins.append(coin)\n",
    "    \n",
    "    def pickRandomCoin(self):\n",
    "        return np.random.choice(self.coins)\n",
    "\n",
    "cb = CoinBag()\n",
    "cb.addCoin(Coin(0.6))\n",
    "cb.addCoin(Coin(0.4))\n",
    "\n",
    "#print cb.pickRandomCoin().probHeads\n",
    "\n",
    "firstFlipIsAHeadCounter = 0 #count onky trials where first flip is head\n",
    "secondFlipIsAHeadCounter = 0 #and count how many of those hadd a 2nd head\n",
    "for trialCtr in range(0,100):\n",
    "    randomCoin = cb.pickRandomCoin()\n",
    "    if randomCoin.flipIsHead():\n",
    "        firstFlipIsAHeadCounter += 1\n",
    "        if randomCoin.flipIsHead():\n",
    "           secondFlipIsAHeadCounter += 1\n",
    "print float(secondFlipIsAHeadCounter) / firstFlipIsAHeadCounter\n",
    "\n",
    "\n",
    "\n"
   ]
  },
  {
   "cell_type": "markdown",
   "metadata": {},
   "source": [
    "### 3.1\n",
    "In front of you is a jar of 1000 coins. One of the coins has two heads, and the rest are fair coins. You choose a coin at random, and flip it ten times, getting all heads. What is the probability it is one of the fair coins?"
   ]
  },
  {
   "cell_type": "code",
   "execution_count": 34,
   "metadata": {
    "collapsed": false
   },
   "outputs": [
    {
     "name": "stdout",
     "output_type": "stream",
     "text": [
      "10 17 0.588235294118\n"
     ]
    }
   ],
   "source": [
    "cb = CoinBag()\n",
    "cb.addCoin(Coin(1))\n",
    "\n",
    "[cb.addCoin(Coin(0.5)) for n in range(0,999)]\n",
    "\n",
    "useableTrialCtr = 0\n",
    "fairCoinCtr = 0\n",
    "for i in range(10000):\n",
    "    randomCoin = cb.pickRandomCoin()\n",
    "    if randomCoin.nextNFlipsAreHeads(10):\n",
    "        useableTrialCtr += 1\n",
    "        if randomCoin.probHeads < 1:\n",
    "            fairCoinCtr += 1\n",
    "print fairCoinCtr, useableTrialCtr, float(fairCoinCtr)/useableTrialCtr\n",
    "\n",
    " #Monte Carlo Method"
   ]
  },
  {
   "cell_type": "markdown",
   "metadata": {},
   "source": [
    "Monte Hall Problem\n",
    "\n",
    "You are a contestant on a game show. You have 3 doors in front of you. Behind two of the doors are goats. Unattractive goats. Behind the other door is a brand new Tesla. The game show host asks you to choose a door. After you do, he opens one of the remaining doors, and there stands a goat. The game show host asks you if you'd like to swith doors.  what do you do?"
   ]
  },
  {
   "cell_type": "code",
   "execution_count": null,
   "metadata": {
    "collapsed": true
   },
   "outputs": [],
   "source": []
  },
  {
   "cell_type": "markdown",
   "metadata": {},
   "source": [
    "cStarting at one vertex of a cube, and moving randomly from vertex to adjacent vertices, what is the expected number of moves until you reach the  vertex opposite from your starting point?"
   ]
  },
  {
   "cell_type": "code",
   "execution_count": 31,
   "metadata": {
    "collapsed": false
   },
   "outputs": [
    {
     "name": "stdout",
     "output_type": "stream",
     "text": [
      "17 26 0.653846153846\n"
     ]
    }
   ],
   "source": [
    "\n"
   ]
  },
  {
   "cell_type": "markdown",
   "metadata": {},
   "source": [
    "### 3.8\n",
    "You have a spinner that generates random numbers that are uniform between 0 and 1. You sum the spins until the sum is greater than one. What is the expected number of spins?"
   ]
  },
  {
   "cell_type": "code",
   "execution_count": 53,
   "metadata": {
    "collapsed": false
   },
   "outputs": [],
   "source": [
    "import numpy as np\n",
    "class Spinner(object):\n",
    "    def __init__(self):\n",
    "        self.total = 0\n",
    "        self.spinCounter = 0\n",
    "        \n",
    "    def spin(self):\n",
    "        self.total += np.random.random()\n",
    "        self.spinCounter += 1\n",
    "        \n",
    "    def reset(self):\n",
    "        self.total = 0\n",
    "        self.spinCounter = 0\n",
    "        \n",
    "    def spinUntilGreaterThanOneAndReset(self):\n",
    "        while self.total < 1:\n",
    "            self.spin()\n",
    "        answer = self.spinCounter\n",
    "        self.reset()\n",
    "        return answer\n",
    "\n",
    "    \n",
    "spinner = Spinner()\n",
    "totalSpins = 0\n",
    "numTrials = 1000000\n",
    "\n",
    "#for n in range(numTrials):\n",
    "#    totalSpins += spinner.spinUntilGreaterThanOneAndReset()\n",
    "trials = [spinner.spinUntilGreaterThanOneAndReset() for n in range(numTrials)]\n",
    "# print trials\n",
    "#print float(sum(trials))/numTrials\n",
    "\n",
    " \n",
    "\n"
   ]
  },
  {
   "cell_type": "code",
   "execution_count": 58,
   "metadata": {
    "collapsed": false
   },
   "outputs": [
    {
     "name": "stdout",
     "output_type": "stream",
     "text": [
      "Populating the interactive namespace from numpy and matplotlib\n"
     ]
    },
    {
     "data": {
      "text/plain": [
       "(array([  4.99710000e-01,   3.33497000e-01,   1.24908000e-01,\n",
       "          3.35490000e-02,   6.96500000e-03,   1.20000000e-03,\n",
       "          1.38000000e-04,   3.00000000e-05,   3.00000000e-06]),\n",
       " array([  2.,   3.,   4.,   5.,   6.,   7.,   8.,   9.,  10.,  11.]),\n",
       " <a list of 9 Patch objects>)"
      ]
     },
     "execution_count": 58,
     "metadata": {},
     "output_type": "execute_result"
    },
    {
     "data": {
      "image/png": "[encoded data removed]",
      "text/plain": [
       "<matplotlib.figure.Figure at 0x1090e4d90>"
      ]
     },
     "metadata": {},
     "output_type": "display_data"
    }
   ],
   "source": [
    "#need next line to get figure to appear in Jupyter\n",
    "%pylab inline\n",
    "import matplotlib.pyplot as plt\n",
    "numBins = np.max(trials) - np.min(trials) +1\n",
    "plt.hist(trials, bins=numBins, normed=True, align='left', rwidth=0.3, range=(2, 2 + numBins))\n",
    "\n",
    "\n",
    "\n",
    "\n",
    "\n",
    "\n",
    "\n",
    "\n"
   ]
  },
  {
   "cell_type": "markdown",
   "metadata": {},
   "source": [
    "### 4.4\n",
    "You have a basket of $n$ assets. The asset returns are multivariate normal with zero mean. Correlation between any pair of assets is 1/2. What is the probability that $k$ of the assets will have positive return?"
   ]
  },
  {
   "cell_type": "code",
   "execution_count": null,
   "metadata": {
    "collapsed": false
   },
   "outputs": [],
   "source": []
  },
  {
   "cell_type": "markdown",
   "metadata": {},
   "source": [
    "### 3.10\n",
    "A stick is broken randomly into 3 pieces. What is the probability of the pieces being able to form a triangle?"
   ]
  },
  {
   "cell_type": "code",
   "execution_count": null,
   "metadata": {
    "collapsed": false
   },
   "outputs": [],
   "source": []
  },
  {
   "cell_type": "markdown",
   "metadata": {},
   "source": [
    "### 3.11\n",
    "A stick is broken randomly into two pieces. The larger piece is then broken randomly into two pieces. What is the probability of the pieces being able to form a triangle?"
   ]
  },
  {
   "cell_type": "code",
   "execution_count": null,
   "metadata": {
    "collapsed": false
   },
   "outputs": [],
   "source": []
  },
  {
   "cell_type": "markdown",
   "metadata": {},
   "source": [
    "### 5.10\n",
    "Suppose there are 36 students in the QFRM program, each assigned a unique integer from 1 to 36. Thirty-six quarters are laid out on a table in a row, heads up. Each student goes to the table, and if they are assigned the number $n$, they turn over the $n$th coin, the $2n$th coin, and so on. So, for example, the student who is assigned 15 will turn over the 15th and 30th coins. When everyone is done, how many tails are showing?"
   ]
  },
  {
   "cell_type": "code",
   "execution_count": null,
   "metadata": {
    "collapsed": false
   },
   "outputs": [],
   "source": []
  }
 ],
 "metadata": {
  "anaconda-cloud": {},
  "kernelspec": {
   "display_name": "Python [Root]",
   "language": "python",
   "name": "Python [Root]"
  },
  "language_info": {
   "codemirror_mode": {
    "name": "ipython",
    "version": 2
   },
   "file_extension": ".py",
   "mimetype": "text/x-python",
   "name": "python",
   "nbconvert_exporter": "python",
   "pygments_lexer": "ipython2",
   "version": "2.7.12"
  }
 },
 "nbformat": 4,
 "nbformat_minor": 0
}
